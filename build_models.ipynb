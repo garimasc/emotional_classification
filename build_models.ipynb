{
 "cells": [
  {
   "cell_type": "code",
   "execution_count": 3,
   "id": "819eaf45-dbe1-4e9a-9414-dbc429dbc191",
   "metadata": {},
   "outputs": [],
   "source": [
    "import pandas as pd\n",
    "import numpy as np\n",
    "\n",
    "import re\n",
    "import nltk\n",
    "# nltk.download('stopwords')\n",
    "from nltk.stem import WordNetLemmatizer\n",
    "from nltk.corpus import stopwords\n",
    "stop_words = list(stopwords.words('english'))\n",
    "\n",
    "import spacy\n",
    "nlp = spacy.load(\"en_core_web_sm\", disable=[\"tagger\",\"parser\", \"ner\"])\n",
    "\n",
    "\n",
    "from sklearn.feature_extraction.text import TfidfVectorizer\n",
    "from sklearn.pipeline import Pipeline\n",
    "from sklearn.neighbors import KNeighborsClassifier\n",
    "from sklearn.svm import SVC\n",
    "from sklearn.model_selection import GridSearchCV\n",
    "from sklearn.base import BaseEstimator, TransformerMixin\n",
    "from sklearn.metrics import recall_score, classification_report\n",
    "\n",
    "import matplotlib.pyplot as plt"
   ]
  },
  {
   "cell_type": "markdown",
   "id": "5fdae8ea-bb8a-4388-9d91-56ca8b17e413",
   "metadata": {},
   "source": [
    "## Import pre-processed data\n",
    "\n",
    "Write a function to import pre-processed data for modelling. Currently, just reading from a previously saved csv file.\n"
   ]
  },
  {
   "cell_type": "code",
   "execution_count": 4,
   "id": "60e35051-3fa7-4ab5-a8f2-78a0ba870041",
   "metadata": {},
   "outputs": [
    {
     "data": {
      "text/plain": [
       "['anger', 'fear', 'joy', 'love', 'sadness', 'surprise']"
      ]
     },
     "execution_count": 4,
     "metadata": {},
     "output_type": "execute_result"
    }
   ],
   "source": [
    "data = pd.read_csv(\"data/lemmatized_dev_data.csv\")\n",
    "\n",
    "emotions = data['label'].unique().tolist()\n",
    "emotions.sort()\n",
    "emotions"
   ]
  },
  {
   "cell_type": "markdown",
   "id": "2f01fb3d",
   "metadata": {},
   "source": [
    "## TF IDF Vectorization"
   ]
  },
  {
   "cell_type": "code",
   "execution_count": 21,
   "id": "a397db0a",
   "metadata": {},
   "outputs": [],
   "source": [
    "# Create a DenseTransformer since TF-IDF vectorization returns sparse matrices\n",
    "class DenseTransformer(TransformerMixin):\n",
    "    def transform(self, X, y=None, **fit_params):\n",
    "        return X.toarray()\n",
    "\n",
    "    def fit_transform(self, X, y=None, **fit_params):\n",
    "        self.fit(X, y, **fit_params)\n",
    "        return self.transform(X)\n",
    "\n",
    "    def fit(self, X, y=None, **fit_params):\n",
    "        return self"
   ]
  },
  {
   "cell_type": "code",
   "execution_count": 74,
   "id": "9da6c47a",
   "metadata": {},
   "outputs": [],
   "source": [
    "pipe = Pipeline([\n",
    "    ('tfidf', TfidfVectorizer(min_df = 1e-3, max_df= 0.9, stop_words= list(stopwords.words('english')), ngram_range= (1,2))),\n",
    "    ('dense', DenseTransformer()),\n",
    "    ('knn', KNeighborsClassifier())\n",
    "])\n",
    "# params = {'knn__n_neighbors': range(5,10,5)}\n",
    "# pipe_grid = GridSearchCV(pipe, param_grid= params, cv= 5)\n",
    "# pipe_grid.fit(data['process_text'], data['label'])\n",
    "\n",
    "# print(pipe_grid.best_params_)\n",
    "# model = pipe_grid.best_estimator_\n",
    "\n",
    "pipe.fit(data['process_text'], data['label'])\n",
    "model = pipe"
   ]
  },
  {
   "cell_type": "code",
   "execution_count": 75,
   "id": "eab97c41",
   "metadata": {},
   "outputs": [],
   "source": [
    "preds = model.predict(data['process_text'])"
   ]
  },
  {
   "cell_type": "code",
   "execution_count": null,
   "id": "e2140c63",
   "metadata": {},
   "outputs": [
    {
     "data": {
      "text/html": [
       "<div>\n",
       "<style scoped>\n",
       "    .dataframe tbody tr th:only-of-type {\n",
       "        vertical-align: middle;\n",
       "    }\n",
       "\n",
       "    .dataframe tbody tr th {\n",
       "        vertical-align: top;\n",
       "    }\n",
       "\n",
       "    .dataframe thead th {\n",
       "        text-align: right;\n",
       "    }\n",
       "</style>\n",
       "<table border=\"1\" class=\"dataframe\">\n",
       "  <thead>\n",
       "    <tr style=\"text-align: right;\">\n",
       "      <th></th>\n",
       "      <th>text</th>\n",
       "      <th>label</th>\n",
       "      <th>process_text</th>\n",
       "      <th>pred_label</th>\n",
       "    </tr>\n",
       "  </thead>\n",
       "  <tbody>\n",
       "    <tr>\n",
       "      <th>0</th>\n",
       "      <td>i usually wear my hair in a twist out and when...</td>\n",
       "      <td>joy</td>\n",
       "      <td>i usually wear my hair in a twist out and when...</td>\n",
       "      <td>joy</td>\n",
       "    </tr>\n",
       "    <tr>\n",
       "      <th>1</th>\n",
       "      <td>i feel so irritated and rejected by it or is g...</td>\n",
       "      <td>anger</td>\n",
       "      <td>i feel so irritated and rejected by it or is g...</td>\n",
       "      <td>joy</td>\n",
       "    </tr>\n",
       "    <tr>\n",
       "      <th>2</th>\n",
       "      <td>i can feel it disturbed within me</td>\n",
       "      <td>sadness</td>\n",
       "      <td>i can feel it disturbed within me</td>\n",
       "      <td>joy</td>\n",
       "    </tr>\n",
       "    <tr>\n",
       "      <th>3</th>\n",
       "      <td>im talking about down right i feel like slappi...</td>\n",
       "      <td>anger</td>\n",
       "      <td>i m talking about down right i feel like slapp...</td>\n",
       "      <td>anger</td>\n",
       "    </tr>\n",
       "    <tr>\n",
       "      <th>4</th>\n",
       "      <td>i almost feel like im messing with a precious ...</td>\n",
       "      <td>joy</td>\n",
       "      <td>i almost feel like i m messing with a precious...</td>\n",
       "      <td>joy</td>\n",
       "    </tr>\n",
       "    <tr>\n",
       "      <th>...</th>\n",
       "      <td>...</td>\n",
       "      <td>...</td>\n",
       "      <td>...</td>\n",
       "      <td>...</td>\n",
       "    </tr>\n",
       "    <tr>\n",
       "      <th>95</th>\n",
       "      <td>i feel glad because i have my best friends aro...</td>\n",
       "      <td>joy</td>\n",
       "      <td>i feel glad because i have my best friends aro...</td>\n",
       "      <td>joy</td>\n",
       "    </tr>\n",
       "    <tr>\n",
       "      <th>96</th>\n",
       "      <td>i think it impossible for anyone who is paying...</td>\n",
       "      <td>joy</td>\n",
       "      <td>i think it impossible for anyone who is paying...</td>\n",
       "      <td>joy</td>\n",
       "    </tr>\n",
       "    <tr>\n",
       "      <th>97</th>\n",
       "      <td>@williamcontrol just preordered The Pale EP......</td>\n",
       "      <td>fear</td>\n",
       "      <td>williamcontrol just preordered the pale ep wou...</td>\n",
       "      <td>sadness</td>\n",
       "    </tr>\n",
       "    <tr>\n",
       "      <th>98</th>\n",
       "      <td>id never feel op or hesitant to do things duri...</td>\n",
       "      <td>fear</td>\n",
       "      <td>i d never feel op or hesitant to do things dur...</td>\n",
       "      <td>sadness</td>\n",
       "    </tr>\n",
       "    <tr>\n",
       "      <th>99</th>\n",
       "      <td>im feeling a little bitter can you tell</td>\n",
       "      <td>anger</td>\n",
       "      <td>i m feeling a little bitter can you tell</td>\n",
       "      <td>anger</td>\n",
       "    </tr>\n",
       "  </tbody>\n",
       "</table>\n",
       "<p>100 rows × 4 columns</p>\n",
       "</div>"
      ],
      "text/plain": [
       "                                                 text    label  \\\n",
       "0   i usually wear my hair in a twist out and when...      joy   \n",
       "1   i feel so irritated and rejected by it or is g...    anger   \n",
       "2                   i can feel it disturbed within me  sadness   \n",
       "3   im talking about down right i feel like slappi...    anger   \n",
       "4   i almost feel like im messing with a precious ...      joy   \n",
       "..                                                ...      ...   \n",
       "95  i feel glad because i have my best friends aro...      joy   \n",
       "96  i think it impossible for anyone who is paying...      joy   \n",
       "97  @williamcontrol just preordered The Pale EP......     fear   \n",
       "98  id never feel op or hesitant to do things duri...     fear   \n",
       "99            im feeling a little bitter can you tell    anger   \n",
       "\n",
       "                                         process_text pred_label  \n",
       "0   i usually wear my hair in a twist out and when...        joy  \n",
       "1   i feel so irritated and rejected by it or is g...        joy  \n",
       "2                   i can feel it disturbed within me        joy  \n",
       "3   i m talking about down right i feel like slapp...      anger  \n",
       "4   i almost feel like i m messing with a precious...        joy  \n",
       "..                                                ...        ...  \n",
       "95  i feel glad because i have my best friends aro...        joy  \n",
       "96  i think it impossible for anyone who is paying...        joy  \n",
       "97  williamcontrol just preordered the pale ep wou...    sadness  \n",
       "98  i d never feel op or hesitant to do things dur...    sadness  \n",
       "99           i m feeling a little bitter can you tell      anger  \n",
       "\n",
       "[100 rows x 4 columns]"
      ]
     },
     "execution_count": 26,
     "metadata": {},
     "output_type": "execute_result"
    }
   ],
   "source": [
    "X_test = data.head(100).copy()\n",
    "X_test['pred_label'] = model.predict(X_test['process_text'])\n",
    "X_test"
   ]
  },
  {
   "cell_type": "code",
   "execution_count": null,
   "id": "a1002b2e",
   "metadata": {},
   "outputs": [
    {
     "name": "stdout",
     "output_type": "stream",
     "text": [
      "              precision    recall  f1-score   support\n",
      "\n",
      "       anger       0.23      0.18      0.20     46295\n",
      "        fear       0.24      0.13      0.17     39253\n",
      "         joy       0.38      0.72      0.50    112083\n",
      "        love       0.21      0.05      0.08     27146\n",
      "     sadness       0.39      0.23      0.29     96388\n",
      "    surprise       0.21      0.02      0.04     11768\n",
      "\n",
      "    accuracy                           0.35    332933\n",
      "   macro avg       0.28      0.22      0.21    332933\n",
      "weighted avg       0.33      0.35      0.31    332933\n",
      "\n"
     ]
    }
   ],
   "source": [
    "print(classification_report(data['label'], preds, labels= emotions))"
   ]
  },
  {
   "cell_type": "code",
   "execution_count": null,
   "id": "a3a47723",
   "metadata": {},
   "outputs": [],
   "source": []
  }
 ],
 "metadata": {
  "kernelspec": {
   "display_name": "Python 3 (ipykernel)",
   "language": "python",
   "name": "python3"
  },
  "language_info": {
   "codemirror_mode": {
    "name": "ipython",
    "version": 3
   },
   "file_extension": ".py",
   "mimetype": "text/x-python",
   "name": "python",
   "nbconvert_exporter": "python",
   "pygments_lexer": "ipython3",
   "version": "3.10.13"
  }
 },
 "nbformat": 4,
 "nbformat_minor": 5
}
