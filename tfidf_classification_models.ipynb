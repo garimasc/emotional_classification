{
 "cells": [
  {
   "cell_type": "code",
   "execution_count": 1,
   "id": "819eaf45-dbe1-4e9a-9414-dbc429dbc191",
   "metadata": {},
   "outputs": [],
   "source": [
    "import pandas as pd\n",
    "import numpy as np\n",
    "\n",
    "import re\n",
    "import nltk\n",
    "# nltk.download('stopwords')\n",
    "from nltk.stem import WordNetLemmatizer\n",
    "from nltk.corpus import stopwords\n",
    "stop_words = list(stopwords.words('english'))\n",
    "\n",
    "import spacy\n",
    "nlp = spacy.load(\"en_core_web_sm\", disable=[\"tagger\",\"parser\", \"ner\"])\n",
    "\n",
    "\n",
    "from sklearn.feature_extraction.text import TfidfVectorizer\n",
    "from sklearn.pipeline import Pipeline\n",
    "from sklearn.neighbors import KNeighborsClassifier\n",
    "from sklearn.model_selection import GridSearchCV, train_test_split\n",
    "from sklearn.base import BaseEstimator, TransformerMixin\n",
    "from sklearn.metrics import recall_score, accuracy_score, classification_report\n",
    "from sklearn.multiclass import OneVsRestClassifier\n",
    "from sklearn.ensemble import BaggingClassifier, RandomForestClassifier\n",
    "from sklearn.linear_model import LogisticRegression, SGDClassifier\n",
    "from sklearn.naive_bayes import MultinomialNB\n",
    "from sklearn.tree import DecisionTreeClassifier\n",
    "from sklearn.inspection import permutation_importance\n",
    "from sklearn.svm import LinearSVC, SVC\n",
    "\n",
    "import matplotlib.pyplot as plt\n",
    "import seaborn as sns"
   ]
  },
  {
   "cell_type": "markdown",
   "id": "5fdae8ea-bb8a-4388-9d91-56ca8b17e413",
   "metadata": {},
   "source": [
    "## Import pre-processed data\n",
    "\n",
    "Write a function to import pre-processed data for modelling. Currently, just reading from a previously saved csv file.\n"
   ]
  },
  {
   "cell_type": "code",
   "execution_count": 2,
   "id": "60e35051-3fa7-4ab5-a8f2-78a0ba870041",
   "metadata": {},
   "outputs": [
    {
     "data": {
      "text/plain": [
       "['anger', 'fear', 'joy', 'love', 'sadness', 'surprise']"
      ]
     },
     "execution_count": 2,
     "metadata": {},
     "output_type": "execute_result"
    }
   ],
   "source": [
    "data = pd.read_csv(\"data/lemmatized_dev_data.csv\")\n",
    "\n",
    "emotions = data['label'].unique().tolist()\n",
    "emotions.sort()\n",
    "emotions"
   ]
  },
  {
   "cell_type": "code",
   "execution_count": 3,
   "id": "1c5d2939",
   "metadata": {},
   "outputs": [],
   "source": [
    "X_train,X_test, y_train, y_test = train_test_split(data['process_text'], data['label'], random_state=0,\n",
    "                                                   test_size= 0.3, stratify= data['label'])"
   ]
  },
  {
   "cell_type": "markdown",
   "id": "2f01fb3d",
   "metadata": {},
   "source": [
    "### TF IDF Vectorization"
   ]
  },
  {
   "cell_type": "code",
   "execution_count": 4,
   "id": "a397db0a",
   "metadata": {},
   "outputs": [],
   "source": [
    "# Create a DenseTransformer since TF-IDF vectorization returns sparse matrices\n",
    "class DenseTransformer(TransformerMixin):\n",
    "    def transform(self, X, y=None, **fit_params):\n",
    "        return X.toarray()\n",
    "\n",
    "    def fit_transform(self, X, y=None, **fit_params):\n",
    "        self.fit(X, y, **fit_params)\n",
    "        return self.transform(X)\n",
    "\n",
    "    def fit(self, X, y=None, **fit_params):\n",
    "        return self"
   ]
  },
  {
   "cell_type": "markdown",
   "id": "a0ace378",
   "metadata": {},
   "source": [
    "### Naive Bayes (Multinomial NB)"
   ]
  },
  {
   "cell_type": "code",
   "execution_count": 5,
   "id": "11a572d9",
   "metadata": {},
   "outputs": [
    {
     "name": "stdout",
     "output_type": "stream",
     "text": [
      "Naive Bayes accuracy is: 0.86.\n",
      "\n",
      "              precision    recall  f1-score   support\n",
      "\n",
      "       anger       0.94      0.81      0.87     13889\n",
      "        fear       0.88      0.75      0.81     11776\n",
      "         joy       0.82      0.96      0.88     33625\n",
      "        love       0.91      0.57      0.70      8144\n",
      "     sadness       0.88      0.95      0.91     28916\n",
      "    surprise       0.88      0.46      0.61      3530\n",
      "\n",
      "    accuracy                           0.86     99880\n",
      "   macro avg       0.88      0.75      0.80     99880\n",
      "weighted avg       0.87      0.86      0.86     99880\n",
      "\n"
     ]
    }
   ],
   "source": [
    "nb_pipe = Pipeline([\n",
    "    ('tfidf', TfidfVectorizer(min_df = 1e-3, max_df= 0.6, stop_words= stop_words, ngram_range= (1,2))),\n",
    "    ('dense', DenseTransformer()),\n",
    "    ('clf', MultinomialNB())\n",
    "])\n",
    "nb_pipe.fit(X_train, y_train)\n",
    "y_pred = nb_pipe.predict(X_test)\n",
    "\n",
    "print(f\"Naive Bayes accuracy is: {accuracy_score(y_pred, y_test):0.2f}.\\n\")\n",
    "print(classification_report(y_test, y_pred, labels= emotions))"
   ]
  },
  {
   "cell_type": "markdown",
   "id": "41a8b109",
   "metadata": {},
   "source": [
    "### Logistic Regression"
   ]
  },
  {
   "cell_type": "code",
   "execution_count": 6,
   "id": "9da6c47a",
   "metadata": {},
   "outputs": [
    {
     "name": "stdout",
     "output_type": "stream",
     "text": [
      "Multi-class Logistic Regression accuracy is: 0.89.\n",
      "\n",
      "              precision    recall  f1-score   support\n",
      "\n",
      "       anger       0.91      0.86      0.88     13889\n",
      "        fear       0.86      0.80      0.83     11776\n",
      "         joy       0.87      0.94      0.90     33625\n",
      "        love       0.82      0.77      0.80      8144\n",
      "     sadness       0.93      0.93      0.93     28916\n",
      "    surprise       0.79      0.73      0.76      3530\n",
      "\n",
      "    accuracy                           0.89     99880\n",
      "   macro avg       0.87      0.84      0.85     99880\n",
      "weighted avg       0.89      0.89      0.89     99880\n",
      "\n"
     ]
    }
   ],
   "source": [
    "logreg_pipe = Pipeline([\n",
    "    ('tfidf', TfidfVectorizer(min_df = 1e-3, max_df= 0.6, stop_words= stop_words, ngram_range= (1,2))),\n",
    "    ('dense', DenseTransformer()),\n",
    "    ('clf', OneVsRestClassifier(LogisticRegression()))\n",
    "])\n",
    "logreg_pipe.fit(X_train, y_train)\n",
    "y_pred = logreg_pipe.predict(X_test)\n",
    "\n",
    "print(f\"Multi-class Logistic Regression accuracy is: {accuracy_score(y_pred, y_test):0.2f}.\\n\")\n",
    "print(classification_report(y_test, y_pred, labels= emotions))\n"
   ]
  },
  {
   "cell_type": "code",
   "execution_count": 7,
   "id": "825dcdc6",
   "metadata": {},
   "outputs": [
    {
     "data": {
      "text/html": [
       "<div>\n",
       "<style scoped>\n",
       "    .dataframe tbody tr th:only-of-type {\n",
       "        vertical-align: middle;\n",
       "    }\n",
       "\n",
       "    .dataframe tbody tr th {\n",
       "        vertical-align: top;\n",
       "    }\n",
       "\n",
       "    .dataframe thead th {\n",
       "        text-align: right;\n",
       "    }\n",
       "</style>\n",
       "<table border=\"1\" class=\"dataframe\">\n",
       "  <thead>\n",
       "    <tr style=\"text-align: right;\">\n",
       "      <th></th>\n",
       "      <th>anger</th>\n",
       "      <th>fear</th>\n",
       "      <th>joy</th>\n",
       "      <th>love</th>\n",
       "      <th>sadness</th>\n",
       "      <th>surprise</th>\n",
       "    </tr>\n",
       "  </thead>\n",
       "  <tbody>\n",
       "    <tr>\n",
       "      <th>0</th>\n",
       "      <td>dissatisfied</td>\n",
       "      <td>apprehensive</td>\n",
       "      <td>acceptable</td>\n",
       "      <td>tender</td>\n",
       "      <td>groggy</td>\n",
       "      <td>dazed</td>\n",
       "    </tr>\n",
       "    <tr>\n",
       "      <th>1</th>\n",
       "      <td>greedy</td>\n",
       "      <td>shaken</td>\n",
       "      <td>resolved</td>\n",
       "      <td>sympathetic</td>\n",
       "      <td>disheartened</td>\n",
       "      <td>shocked</td>\n",
       "    </tr>\n",
       "    <tr>\n",
       "      <th>2</th>\n",
       "      <td>dangerous</td>\n",
       "      <td>frantic</td>\n",
       "      <td>mellow</td>\n",
       "      <td>horny</td>\n",
       "      <td>needy</td>\n",
       "      <td>stunned</td>\n",
       "    </tr>\n",
       "    <tr>\n",
       "      <th>3</th>\n",
       "      <td>envious</td>\n",
       "      <td>hesitant</td>\n",
       "      <td>sincere</td>\n",
       "      <td>delicate</td>\n",
       "      <td>abused</td>\n",
       "      <td>impressed</td>\n",
       "    </tr>\n",
       "    <tr>\n",
       "      <th>4</th>\n",
       "      <td>irritable</td>\n",
       "      <td>pressured</td>\n",
       "      <td>smug</td>\n",
       "      <td>naughty</td>\n",
       "      <td>discontent</td>\n",
       "      <td>amazed</td>\n",
       "    </tr>\n",
       "    <tr>\n",
       "      <th>5</th>\n",
       "      <td>distracted</td>\n",
       "      <td>distressed</td>\n",
       "      <td>triumphant</td>\n",
       "      <td>longing</td>\n",
       "      <td>jaded</td>\n",
       "      <td>curious</td>\n",
       "    </tr>\n",
       "    <tr>\n",
       "      <th>6</th>\n",
       "      <td>rebellious</td>\n",
       "      <td>reluctant</td>\n",
       "      <td>trusting</td>\n",
       "      <td>loyal</td>\n",
       "      <td>vain</td>\n",
       "      <td>surprised</td>\n",
       "    </tr>\n",
       "    <tr>\n",
       "      <th>7</th>\n",
       "      <td>petty</td>\n",
       "      <td>fearful</td>\n",
       "      <td>casual</td>\n",
       "      <td>gentle</td>\n",
       "      <td>gloomy</td>\n",
       "      <td>funny</td>\n",
       "    </tr>\n",
       "    <tr>\n",
       "      <th>8</th>\n",
       "      <td>bothered</td>\n",
       "      <td>intimidated</td>\n",
       "      <td>virtuous</td>\n",
       "      <td>devoted</td>\n",
       "      <td>homesick</td>\n",
       "      <td>overwhelmed</td>\n",
       "    </tr>\n",
       "    <tr>\n",
       "      <th>9</th>\n",
       "      <td>bitchy</td>\n",
       "      <td>shaky</td>\n",
       "      <td>intelligent</td>\n",
       "      <td>caring</td>\n",
       "      <td>rotten</td>\n",
       "      <td>amazing</td>\n",
       "    </tr>\n",
       "    <tr>\n",
       "      <th>10</th>\n",
       "      <td>fucked</td>\n",
       "      <td>suspicious</td>\n",
       "      <td>clever</td>\n",
       "      <td>romantic</td>\n",
       "      <td>melancholy</td>\n",
       "      <td>strange</td>\n",
       "    </tr>\n",
       "    <tr>\n",
       "      <th>11</th>\n",
       "      <td>rushed</td>\n",
       "      <td>uptight</td>\n",
       "      <td>innocent</td>\n",
       "      <td>fond</td>\n",
       "      <td>doomed</td>\n",
       "      <td>weird</td>\n",
       "    </tr>\n",
       "    <tr>\n",
       "      <th>12</th>\n",
       "      <td>rude</td>\n",
       "      <td>skeptical</td>\n",
       "      <td>pleasant</td>\n",
       "      <td>compassionate</td>\n",
       "      <td>dull</td>\n",
       "      <td>feel funny</td>\n",
       "    </tr>\n",
       "    <tr>\n",
       "      <th>13</th>\n",
       "      <td>bitter</td>\n",
       "      <td>paranoid</td>\n",
       "      <td>convinced</td>\n",
       "      <td>supportive</td>\n",
       "      <td>aching</td>\n",
       "      <td>feel amazed</td>\n",
       "    </tr>\n",
       "    <tr>\n",
       "      <th>14</th>\n",
       "      <td>violent</td>\n",
       "      <td>uncertain</td>\n",
       "      <td>carefree</td>\n",
       "      <td>nostalgic</td>\n",
       "      <td>unfortunate</td>\n",
       "      <td>feel impressed</td>\n",
       "    </tr>\n",
       "  </tbody>\n",
       "</table>\n",
       "</div>"
      ],
      "text/plain": [
       "           anger          fear          joy           love       sadness  \\\n",
       "0   dissatisfied  apprehensive   acceptable         tender        groggy   \n",
       "1         greedy        shaken     resolved    sympathetic  disheartened   \n",
       "2      dangerous       frantic       mellow          horny         needy   \n",
       "3        envious      hesitant      sincere       delicate        abused   \n",
       "4      irritable     pressured         smug        naughty    discontent   \n",
       "5     distracted    distressed   triumphant        longing         jaded   \n",
       "6     rebellious     reluctant     trusting          loyal          vain   \n",
       "7          petty       fearful       casual         gentle        gloomy   \n",
       "8       bothered   intimidated     virtuous        devoted      homesick   \n",
       "9         bitchy         shaky  intelligent         caring        rotten   \n",
       "10        fucked    suspicious       clever       romantic    melancholy   \n",
       "11        rushed       uptight     innocent           fond        doomed   \n",
       "12          rude     skeptical     pleasant  compassionate          dull   \n",
       "13        bitter      paranoid    convinced     supportive        aching   \n",
       "14       violent     uncertain     carefree      nostalgic   unfortunate   \n",
       "\n",
       "          surprise  \n",
       "0            dazed  \n",
       "1          shocked  \n",
       "2          stunned  \n",
       "3        impressed  \n",
       "4           amazed  \n",
       "5          curious  \n",
       "6        surprised  \n",
       "7            funny  \n",
       "8      overwhelmed  \n",
       "9          amazing  \n",
       "10         strange  \n",
       "11           weird  \n",
       "12      feel funny  \n",
       "13     feel amazed  \n",
       "14  feel impressed  "
      ]
     },
     "execution_count": 7,
     "metadata": {},
     "output_type": "execute_result"
    }
   ],
   "source": [
    "feature_names = logreg_pipe.named_steps['tfidf'].get_feature_names_out()\n",
    "\n",
    "n_max= 15\n",
    "res = pd.DataFrame(columns= emotions, index = range(0,n_max,1))\n",
    "\n",
    "for ii in range(0,len(emotions)):\n",
    "    res.loc[:,emotions[ii]] = pd.DataFrame(logreg_pipe.named_steps['clf'].estimators_[ii].coef_, columns= feature_names, \n",
    "                index= [emotions[ii]]).T.sort_values(emotions[ii], ascending= False).head(n_max).index\n",
    "\n",
    "res"
   ]
  },
  {
   "cell_type": "code",
   "execution_count": 8,
   "id": "b9c37a19",
   "metadata": {},
   "outputs": [],
   "source": [
    "tmp_x_train = logreg_pipe[:-1].transform(X_train)\n",
    "# to get permutation: \n",
    "results = permutation_importance(logreg_pipe[-1], tmp_x_train, y_train, scoring='accuracy',\n",
    "                                 n_repeats= 30, max_samples= 1000, n_jobs= 2, random_state= 0)"
   ]
  },
  {
   "cell_type": "code",
   "execution_count": 13,
   "id": "a3a47723",
   "metadata": {},
   "outputs": [
    {
     "data": {
      "image/png": "[encoded data removed]",
      "text/plain": [
       "<Figure size 1200x350 with 1 Axes>"
      ]
     },
     "metadata": {},
     "output_type": "display_data"
    }
   ],
   "source": [
    "top_features = feature_names[np.argsort(results.importances_mean)][::-1][:40]\n",
    "df_imp = pd.melt(pd.DataFrame(results.importances, index= feature_names).reindex(top_features).reset_index(), id_vars= \"index\")\n",
    "df_imp.columns = ['feature','run','importance']\n",
    "\n",
    "plt.figure(figsize= (12,3.5))\n",
    "sns.boxplot(data= df_imp, x= \"feature\", y= \"importance\", order= top_features, color= \"coral\")\n",
    "plt.xticks(rotation= 90)\n",
    "plt.yticks([])\n",
    "plt.xlabel('')\n",
    "plt.title(\"Top 40 most important features for Logistic Regression One-vs-Rest Classifier\")\n",
    "\n",
    "del df_imp"
   ]
  },
  {
   "cell_type": "markdown",
   "id": "9b9cb435",
   "metadata": {},
   "source": [
    "### Support Vector \n",
    "We use the SGDClassifier implementation, which is fast and does not require Bagging.\n",
    "If we were to use SVC, the implementation scales quadratically with time, and in that case we would want to use BaggingClassfier."
   ]
  },
  {
   "cell_type": "code",
   "execution_count": 19,
   "id": "f3c56836",
   "metadata": {},
   "outputs": [
    {
     "name": "stdout",
     "output_type": "stream",
     "text": [
      "Multi-class SVM accuracy is: 0.88.\n",
      "\n",
      "              precision    recall  f1-score   support\n",
      "\n",
      "       anger       0.94      0.82      0.88     13889\n",
      "        fear       0.86      0.82      0.84     11776\n",
      "         joy       0.84      0.96      0.90     33625\n",
      "        love       0.88      0.69      0.77      8144\n",
      "     sadness       0.92      0.94      0.93     28916\n",
      "    surprise       0.91      0.63      0.74      3530\n",
      "\n",
      "    accuracy                           0.88     99880\n",
      "   macro avg       0.89      0.81      0.84     99880\n",
      "weighted avg       0.89      0.88      0.88     99880\n",
      "\n"
     ]
    }
   ],
   "source": [
    "svc_pipe = Pipeline([\n",
    "    ('tfidf', TfidfVectorizer(min_df = 1e-3, max_df= 0.6, stop_words= stop_words, ngram_range= (1,2))),\n",
    "    ('dense', DenseTransformer()),\n",
    "    ('clf', SGDClassifier(loss= 'hinge'))\n",
    "])\n",
    "svc_pipe.fit(X_train, y_train)\n",
    "y_pred = svc_pipe.predict(X_test)\n",
    "\n",
    "print(f\"Multi-class SVM accuracy is: {accuracy_score(y_pred, y_test):0.2f}.\\n\")\n",
    "print(classification_report(y_test, y_pred, labels= emotions))\n"
   ]
  },
  {
   "cell_type": "markdown",
   "id": "04ee2abc",
   "metadata": {},
   "source": [
    "### Decision Tree Classifier"
   ]
  },
  {
   "cell_type": "code",
   "execution_count": 36,
   "id": "3269fa79",
   "metadata": {},
   "outputs": [
    {
     "name": "stdout",
     "output_type": "stream",
     "text": [
      "Multi-class Logistic Regression accuracy is: 0.85.\n",
      "\n",
      "              precision    recall  f1-score   support\n",
      "\n",
      "       anger       0.84      0.82      0.83     13889\n",
      "        fear       0.74      0.87      0.80     11776\n",
      "         joy       0.86      0.87      0.86     33625\n",
      "        love       0.78      0.75      0.76      8144\n",
      "     sadness       0.91      0.88      0.89     28916\n",
      "    surprise       0.87      0.62      0.72      3530\n",
      "\n",
      "    accuracy                           0.85     99880\n",
      "   macro avg       0.83      0.80      0.81     99880\n",
      "weighted avg       0.85      0.85      0.85     99880\n",
      "\n"
     ]
    }
   ],
   "source": [
    "tree_pipe = Pipeline([\n",
    "    ('tfidf', TfidfVectorizer(min_df = 1e-3, max_df= 0.6, stop_words= stop_words, ngram_range= (1,2))),\n",
    "    ('dense', DenseTransformer()),\n",
    "    ('clf', DecisionTreeClassifier(min_samples_split= 0.05))\n",
    "])\n",
    "tree_pipe.fit(X_train.head(50000), y_train.head(50000))\n",
    "y_pred = tree_pipe.predict(X_test)\n",
    "\n",
    "print(f\"Multi-class Logistic Regression accuracy is: {accuracy_score(y_pred, y_test):0.2f}.\\n\")\n",
    "print(classification_report(y_test, y_pred, labels= emotions))"
   ]
  },
  {
   "cell_type": "code",
   "execution_count": 55,
   "id": "d6bbe6b5",
   "metadata": {},
   "outputs": [
    {
     "name": "stdout",
     "output_type": "stream",
     "text": [
      "{'clf__max_samples': 5000, 'clf__min_samples_split': 100, 'clf__n_estimators': 20}\n",
      "Multi-class Random Forest accuracy is: 0.87.\n",
      "\n",
      "              precision    recall  f1-score   support\n",
      "\n",
      "       anger       0.88      0.84      0.86     13889\n",
      "        fear       0.82      0.81      0.81     11776\n",
      "         joy       0.85      0.91      0.88     33625\n",
      "        love       0.81      0.74      0.77      8144\n",
      "     sadness       0.92      0.90      0.91     28916\n",
      "    surprise       0.82      0.68      0.74      3530\n",
      "\n",
      "    accuracy                           0.87     99880\n",
      "   macro avg       0.85      0.81      0.83     99880\n",
      "weighted avg       0.87      0.87      0.86     99880\n",
      "\n"
     ]
    }
   ],
   "source": [
    "rf_pipe = Pipeline([\n",
    "    ('tfidf', TfidfVectorizer(min_df = 1e-3, max_df= 0.6, stop_words= stop_words, ngram_range= (1,2))),\n",
    "    ('dense', DenseTransformer()),\n",
    "    ('clf', RandomForestClassifier(n_estimators= 10, max_samples= 5000, min_samples_split= 10))\n",
    "])\n",
    "# rf_pipe.fit(X_train, y_train)\n",
    "# y_pred = rf_pipe.predict(X_test)\n",
    "\n",
    "rf_grid= GridSearchCV(rf_pipe, param_grid= {'clf__n_estimators': [10,20,100],\n",
    "                                            'clf__max_samples':[5000],\n",
    "                                            'clf__min_samples_split': [10, 50, 100, 200, 500]}, scoring= 'accuracy', cv= 3)\n",
    "rf_grid.fit(X_train, y_train)\n",
    "print(rf_grid.best_params_)\n",
    "y_pred = rf_grid.predict(X_test)\n",
    "\n",
    "print(f\"Multi-class Random Forest accuracy is: {accuracy_score(y_pred, y_test):0.2f}.\\n\")\n",
    "print(classification_report(y_test, y_pred, labels= emotions))"
   ]
  },
  {
   "cell_type": "code",
   "execution_count": null,
   "id": "da6abf77",
   "metadata": {},
   "outputs": [],
   "source": []
  }
 ],
 "metadata": {
  "kernelspec": {
   "display_name": "Python 3 (ipykernel)",
   "language": "python",
   "name": "python3"
  },
  "language_info": {
   "codemirror_mode": {
    "name": "ipython",
    "version": 3
   },
   "file_extension": ".py",
   "mimetype": "text/x-python",
   "name": "python",
   "nbconvert_exporter": "python",
   "pygments_lexer": "ipython3",
   "version": "3.10.13"
  }
 },
 "nbformat": 4,
 "nbformat_minor": 5
}
